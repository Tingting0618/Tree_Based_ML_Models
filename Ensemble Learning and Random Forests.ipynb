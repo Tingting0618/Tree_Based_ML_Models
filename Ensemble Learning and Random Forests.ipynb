{
 "cells": [
  {
   "cell_type": "markdown",
   "metadata": {},
   "source": [
    "### Ensemble Learning and Random Forests\n",
    "\n",
    "#### Most popular Ensemble methods:\n",
    "- bagging and pasting\n",
    "    - Use the same training algorithm for every predictor and train them on different random subsets of the training set.\n",
    "    - When sampling is performed with replacement, the method is bagging (bootstrapping aggregating). In statistics, resampling with replacement is called bootstrapping.\n",
    "    - When sampling is performed without replacement, the method is pasting.\n",
    "- boosting\n",
    "    - Train predictors sequentially, each trying to correct its predecessor. \n",
    "    - **AdaBoost**: The algorithm then increases the relative weight of misclassified training instances. Then it trains a second classifier, using the updated weights, and again makes predictions on the training set, updates the instance weights.\n",
    "    - **Gradient Boosting**: instead of tweaking the instance weights at every iteration like AdaBoost does, this method tries to fit the new predictor to the residual errors made by the previous predictor.\n",
    "    - **XGBoost**: a scalable tree boosting system and an optimized implementation of Gradient Boosting. \n",
    "- stacking\n",
    "    - instead of using trivial functions (such as hard voting) to aggregate the predictions of all predictors in an ensemble, stacking trains a model to perform this aggregation.\n",
    "\n",
    "#### Voting Classifiers\n",
    "- Hard Voting Classifiers (predict the class that gets the most votes)\n",
    "- Soft Voting Classifier (predict the class based on the highest class probability, averaged over all the individual classifiers.)\n",
    "\n",
    "#### Random Forest\n",
    "- Train a group of Decision Tree classifiers, each on a different random subset of the training set.\n",
    "- Instead of searching for the very best feature when splitting a node, it searches for the best feature among a random subset of features.\n",
    "- Obtain the predictions of all the individual trees, then predict the class that gets the most votes.\n",
    "\n",
    "#### Extra-Trees\n",
    "- Extra-Trees makes trees even more random by also using random thresholds for each feature rather than searching for the best possible thresholds (like regular Decision Trees do).\n",
    "\n",
    "#### Feature Importance\n",
    "- Feature Importance calculates how much the tree nodes that use that feature reduce impurity on average (across all trees in the forest)."
   ]
  },
  {
   "cell_type": "code",
   "execution_count": null,
   "metadata": {},
   "outputs": [],
   "source": []
  },
  {
   "cell_type": "markdown",
   "metadata": {},
   "source": [
    "## Hard Voting Classifiers (predict the class that gets the most votes)"
   ]
  },
  {
   "cell_type": "code",
   "execution_count": 1,
   "metadata": {},
   "outputs": [],
   "source": [
    "from sklearn.model_selection import train_test_split\n",
    "from sklearn.datasets import make_moons\n",
    "\n",
    "X, y = make_moons(n_samples=500, noise=0.30, random_state=42)\n",
    "X_train, X_test, y_train, y_test = train_test_split(X, y, random_state=42)"
   ]
  },
  {
   "cell_type": "code",
   "execution_count": 2,
   "metadata": {},
   "outputs": [],
   "source": [
    "from sklearn.ensemble import RandomForestClassifier\n",
    "from sklearn.ensemble import VotingClassifier\n",
    "from sklearn.linear_model import LogisticRegression\n",
    "from sklearn.svm import SVC\n",
    "\n",
    "log_clf = LogisticRegression(solver=\"lbfgs\", random_state=42)\n",
    "rnd_clf = RandomForestClassifier(n_estimators=100, random_state=42)\n",
    "svm_clf = SVC(gamma=\"scale\", random_state=42)\n",
    "\n",
    "voting_clf = VotingClassifier(\n",
    "    estimators=[('lr', log_clf), ('rf', rnd_clf), ('svc', svm_clf)],\n",
    "    voting='hard')"
   ]
  },
  {
   "cell_type": "code",
   "execution_count": 3,
   "metadata": {},
   "outputs": [
    {
     "data": {
      "text/plain": [
       "VotingClassifier(estimators=[('lr', LogisticRegression(random_state=42)),\n",
       "                             ('rf', RandomForestClassifier(random_state=42)),\n",
       "                             ('svc', SVC(random_state=42))])"
      ]
     },
     "execution_count": 3,
     "metadata": {},
     "output_type": "execute_result"
    }
   ],
   "source": [
    "voting_clf.fit(X_train, y_train)"
   ]
  },
  {
   "cell_type": "code",
   "execution_count": 4,
   "metadata": {},
   "outputs": [
    {
     "name": "stdout",
     "output_type": "stream",
     "text": [
      "LogisticRegression 0.864\n",
      "RandomForestClassifier 0.896\n",
      "SVC 0.896\n",
      "VotingClassifier 0.912\n"
     ]
    }
   ],
   "source": [
    "from sklearn.metrics import accuracy_score\n",
    "\n",
    "for clf in (log_clf, rnd_clf, svm_clf, voting_clf):\n",
    "    clf.fit(X_train, y_train)\n",
    "    y_pred = clf.predict(X_test)\n",
    "    print(clf.__class__.__name__, accuracy_score(y_test, y_pred))"
   ]
  },
  {
   "cell_type": "markdown",
   "metadata": {},
   "source": [
    "## Soft Voting Classifier (predict the class based on the highest class probability)"
   ]
  },
  {
   "cell_type": "code",
   "execution_count": 5,
   "metadata": {},
   "outputs": [
    {
     "data": {
      "text/plain": [
       "VotingClassifier(estimators=[('lr', LogisticRegression(random_state=42)),\n",
       "                             ('rf', RandomForestClassifier(random_state=42)),\n",
       "                             ('svc', SVC(probability=True, random_state=42))],\n",
       "                 voting='soft')"
      ]
     },
     "execution_count": 5,
     "metadata": {},
     "output_type": "execute_result"
    }
   ],
   "source": [
    "log_clf = LogisticRegression(solver=\"lbfgs\", random_state=42)\n",
    "rnd_clf = RandomForestClassifier(n_estimators=100, random_state=42)\n",
    "svm_clf = SVC(gamma=\"scale\", probability=True, random_state=42)\n",
    "\n",
    "voting_clf = VotingClassifier(\n",
    "    estimators=[('lr', log_clf), ('rf', rnd_clf), ('svc', svm_clf)],\n",
    "    voting='soft')\n",
    "voting_clf.fit(X_train, y_train)"
   ]
  },
  {
   "cell_type": "code",
   "execution_count": 6,
   "metadata": {},
   "outputs": [
    {
     "name": "stdout",
     "output_type": "stream",
     "text": [
      "LogisticRegression 0.864\n",
      "RandomForestClassifier 0.896\n",
      "SVC 0.896\n",
      "VotingClassifier 0.92\n"
     ]
    }
   ],
   "source": [
    "from sklearn.metrics import accuracy_score\n",
    "\n",
    "for clf in (log_clf, rnd_clf, svm_clf, voting_clf):\n",
    "    clf.fit(X_train, y_train)\n",
    "    y_pred = clf.predict(X_test)\n",
    "    print(clf.__class__.__name__, accuracy_score(y_test, y_pred))"
   ]
  },
  {
   "cell_type": "markdown",
   "metadata": {},
   "source": [
    "## Bagging, Pasting, and Out-of-Bag Evaluation in Scikit-Learn\n",
    "The following code trains an ensemble of 500 Decision Tree classifiers: each is trained on 100 training instances randomly sampled from the training set with replacement."
   ]
  },
  {
   "cell_type": "code",
   "execution_count": 7,
   "metadata": {},
   "outputs": [
    {
     "data": {
      "text/plain": [
       "0.928"
      ]
     },
     "execution_count": 7,
     "metadata": {},
     "output_type": "execute_result"
    }
   ],
   "source": [
    "from sklearn.ensemble import BaggingClassifier\n",
    "from sklearn.tree import DecisionTreeClassifier\n",
    "bag_clf = BaggingClassifier(\n",
    " DecisionTreeClassifier(), n_estimators=500,\n",
    " max_samples=100, bootstrap=True, n_jobs=-1, oob_score=True)\n",
    "bag_clf.fit(X_train, y_train)\n",
    "y_pred = bag_clf.predict(X_test)\n",
    "bag_clf.oob_score_"
   ]
  },
  {
   "cell_type": "code",
   "execution_count": 8,
   "metadata": {},
   "outputs": [
    {
     "data": {
      "text/plain": [
       "array([[0.34986945, 0.65013055],\n",
       "       [0.40414508, 0.59585492],\n",
       "       [1.        , 0.        ],\n",
       "       [0.00763359, 0.99236641],\n",
       "       [0.02631579, 0.97368421],\n",
       "       [0.1184573 , 0.8815427 ],\n",
       "       [0.42025316, 0.57974684],\n",
       "       [0.05759162, 0.94240838],\n",
       "       [0.94946809, 0.05053191],\n",
       "       [0.83727034, 0.16272966],\n",
       "       [0.57441253, 0.42558747],\n",
       "       [0.06735751, 0.93264249],\n",
       "       [0.74871795, 0.25128205],\n",
       "       [0.86197917, 0.13802083],\n",
       "       [0.90745501, 0.09254499],\n",
       "       [0.09736842, 0.90263158],\n",
       "       [0.03674541, 0.96325459],\n",
       "       [0.92428198, 0.07571802],\n",
       "       [0.70108696, 0.29891304],\n",
       "       [0.96256684, 0.03743316],\n",
       "       [0.08042895, 0.91957105],\n",
       "       [0.22622108, 0.77377892],\n",
       "       [0.86543536, 0.13456464],\n",
       "       [0.98181818, 0.01818182],\n",
       "       [0.95275591, 0.04724409],\n",
       "       [0.00524934, 0.99475066],\n",
       "       [0.96640827, 0.03359173],\n",
       "       [1.        , 0.        ],\n",
       "       [0.02857143, 0.97142857],\n",
       "       [0.71794872, 0.28205128],\n",
       "       [0.        , 1.        ],\n",
       "       [0.99742931, 0.00257069],\n",
       "       [0.0075    , 0.9925    ],\n",
       "       [0.09497207, 0.90502793],\n",
       "       [0.09497207, 0.90502793],\n",
       "       [0.98753117, 0.01246883],\n",
       "       [0.02228412, 0.97771588],\n",
       "       [0.53532609, 0.46467391],\n",
       "       [0.00512821, 0.99487179],\n",
       "       [0.99463807, 0.00536193],\n",
       "       [0.140625  , 0.859375  ],\n",
       "       [0.39895013, 0.60104987],\n",
       "       [0.99445983, 0.00554017],\n",
       "       [0.99234694, 0.00765306],\n",
       "       [0.        , 1.        ],\n",
       "       [1.        , 0.        ],\n",
       "       [1.        , 0.        ],\n",
       "       [0.05897436, 0.94102564],\n",
       "       [0.97606383, 0.02393617],\n",
       "       [0.05808081, 0.94191919],\n",
       "       [0.95822454, 0.04177546],\n",
       "       [0.84210526, 0.15789474],\n",
       "       [0.95561358, 0.04438642],\n",
       "       [0.83289817, 0.16710183],\n",
       "       [0.01595745, 0.98404255],\n",
       "       [0.1281407 , 0.8718593 ],\n",
       "       [0.83819629, 0.16180371],\n",
       "       [0.01804124, 0.98195876],\n",
       "       [0.02191781, 0.97808219],\n",
       "       [0.05675676, 0.94324324],\n",
       "       [0.85063291, 0.14936709],\n",
       "       [0.58746736, 0.41253264],\n",
       "       [0.74731183, 0.25268817],\n",
       "       [0.96569921, 0.03430079],\n",
       "       [0.02116402, 0.97883598],\n",
       "       [0.79328165, 0.20671835],\n",
       "       [0.9811828 , 0.0188172 ],\n",
       "       [0.99739583, 0.00260417],\n",
       "       [0.61477573, 0.38522427],\n",
       "       [0.98677249, 0.01322751],\n",
       "       [0.34645669, 0.65354331],\n",
       "       [0.3359375 , 0.6640625 ],\n",
       "       [0.45524297, 0.54475703],\n",
       "       [0.71315789, 0.28684211],\n",
       "       [0.        , 1.        ],\n",
       "       [0.35120643, 0.64879357],\n",
       "       [0.84987277, 0.15012723],\n",
       "       [1.        , 0.        ],\n",
       "       [0.02798982, 0.97201018],\n",
       "       [0.94559585, 0.05440415],\n",
       "       [0.0026178 , 0.9973822 ],\n",
       "       [0.20779221, 0.79220779],\n",
       "       [0.13402062, 0.86597938],\n",
       "       [0.47466667, 0.52533333],\n",
       "       [0.99210526, 0.00789474],\n",
       "       [0.05989583, 0.94010417],\n",
       "       [0.67624021, 0.32375979],\n",
       "       [0.04896907, 0.95103093],\n",
       "       [0.03937008, 0.96062992],\n",
       "       [0.        , 1.        ],\n",
       "       [0.31880109, 0.68119891],\n",
       "       [1.        , 0.        ],\n",
       "       [0.00527704, 0.99472296],\n",
       "       [0.0610687 , 0.9389313 ],\n",
       "       [0.01587302, 0.98412698],\n",
       "       [0.81170483, 0.18829517],\n",
       "       [0.64646465, 0.35353535],\n",
       "       [0.08947368, 0.91052632],\n",
       "       [0.9947644 , 0.0052356 ],\n",
       "       [0.33503836, 0.66496164],\n",
       "       [0.66216216, 0.33783784],\n",
       "       [0.01822917, 0.98177083],\n",
       "       [0.08310992, 0.91689008],\n",
       "       [0.41237113, 0.58762887],\n",
       "       [0.96344648, 0.03655352],\n",
       "       [0.07427056, 0.92572944],\n",
       "       [0.97894737, 0.02105263],\n",
       "       [0.3943299 , 0.6056701 ],\n",
       "       [0.3012987 , 0.6987013 ],\n",
       "       [0.98717949, 0.01282051],\n",
       "       [0.20403023, 0.79596977],\n",
       "       [0.84432718, 0.15567282],\n",
       "       [0.28421053, 0.71578947],\n",
       "       [0.75066313, 0.24933687],\n",
       "       [1.        , 0.        ],\n",
       "       [0.9924812 , 0.0075188 ],\n",
       "       [0.        , 1.        ],\n",
       "       [0.        , 1.        ],\n",
       "       [0.52815013, 0.47184987],\n",
       "       [0.99212598, 0.00787402],\n",
       "       [0.07512953, 0.92487047],\n",
       "       [0.98697917, 0.01302083],\n",
       "       [0.97662338, 0.02337662],\n",
       "       [0.99744898, 0.00255102],\n",
       "       [0.94652406, 0.05347594],\n",
       "       [0.98186528, 0.01813472],\n",
       "       [0.03430079, 0.96569921],\n",
       "       [0.92663043, 0.07336957],\n",
       "       [0.96658098, 0.03341902],\n",
       "       [0.02583979, 0.97416021],\n",
       "       [0.2265625 , 0.7734375 ],\n",
       "       [0.88402062, 0.11597938],\n",
       "       [0.41237113, 0.58762887],\n",
       "       [0.92207792, 0.07792208],\n",
       "       [0.        , 1.        ],\n",
       "       [0.02842377, 0.97157623],\n",
       "       [0.78571429, 0.21428571],\n",
       "       [0.71311475, 0.28688525],\n",
       "       [0.578125  , 0.421875  ],\n",
       "       [0.85750636, 0.14249364],\n",
       "       [0.92876712, 0.07123288],\n",
       "       [0.15405405, 0.84594595],\n",
       "       [0.80939948, 0.19060052],\n",
       "       [0.03589744, 0.96410256],\n",
       "       [0.00258398, 0.99741602],\n",
       "       [0.10215054, 0.89784946],\n",
       "       [0.78306878, 0.21693122],\n",
       "       [0.97311828, 0.02688172],\n",
       "       [1.        , 0.        ],\n",
       "       [0.03856041, 0.96143959],\n",
       "       [0.00531915, 0.99468085],\n",
       "       [0.075     , 0.925     ],\n",
       "       [0.02835052, 0.97164948],\n",
       "       [0.99481865, 0.00518135],\n",
       "       [0.98992443, 0.01007557],\n",
       "       [0.88511749, 0.11488251],\n",
       "       [1.        , 0.        ],\n",
       "       [1.        , 0.        ],\n",
       "       [0.89037433, 0.10962567],\n",
       "       [0.01075269, 0.98924731],\n",
       "       [0.62051282, 0.37948718],\n",
       "       [0.33064516, 0.66935484],\n",
       "       [0.06905371, 0.93094629],\n",
       "       [0.01117318, 0.98882682],\n",
       "       [0.33942559, 0.66057441],\n",
       "       [0.99242424, 0.00757576],\n",
       "       [0.94897959, 0.05102041],\n",
       "       [0.        , 1.        ],\n",
       "       [0.9895288 , 0.0104712 ],\n",
       "       [0.08854167, 0.91145833],\n",
       "       [0.        , 1.        ],\n",
       "       [0.92307692, 0.07692308],\n",
       "       [0.00522193, 0.99477807],\n",
       "       [0.        , 1.        ],\n",
       "       [0.99749373, 0.00250627],\n",
       "       [0.04358974, 0.95641026],\n",
       "       [0.84754522, 0.15245478],\n",
       "       [0.944     , 0.056     ],\n",
       "       [0.0596206 , 0.9403794 ],\n",
       "       [0.9453125 , 0.0546875 ],\n",
       "       [0.92084433, 0.07915567],\n",
       "       [0.97905759, 0.02094241],\n",
       "       [0.01617251, 0.98382749],\n",
       "       [0.01033592, 0.98966408],\n",
       "       [0.99475066, 0.00524934],\n",
       "       [0.23684211, 0.76315789],\n",
       "       [0.99232737, 0.00767263],\n",
       "       [0.11627907, 0.88372093],\n",
       "       [0.015625  , 0.984375  ],\n",
       "       [0.98614958, 0.01385042],\n",
       "       [0.        , 1.        ],\n",
       "       [0.19210526, 0.80789474],\n",
       "       [0.90243902, 0.09756098],\n",
       "       [0.92408377, 0.07591623],\n",
       "       [0.64285714, 0.35714286],\n",
       "       [0.65914787, 0.34085213],\n",
       "       [0.02267003, 0.97732997],\n",
       "       [0.26005362, 0.73994638],\n",
       "       [0.99484536, 0.00515464],\n",
       "       [0.90609137, 0.09390863],\n",
       "       [0.91731266, 0.08268734],\n",
       "       [0.9872449 , 0.0127551 ],\n",
       "       [0.06951872, 0.93048128],\n",
       "       [0.01075269, 0.98924731],\n",
       "       [0.09090909, 0.90909091],\n",
       "       [0.55647383, 0.44352617],\n",
       "       [0.        , 1.        ],\n",
       "       [0.01741294, 0.98258706],\n",
       "       [0.94936709, 0.05063291],\n",
       "       [0.07506702, 0.92493298],\n",
       "       [0.12598425, 0.87401575],\n",
       "       [0.88421053, 0.11578947],\n",
       "       [0.0591133 , 0.9408867 ],\n",
       "       [0.36193029, 0.63806971],\n",
       "       [0.00263158, 0.99736842],\n",
       "       [1.        , 0.        ],\n",
       "       [0.01827676, 0.98172324],\n",
       "       [0.01639344, 0.98360656],\n",
       "       [0.92467532, 0.07532468],\n",
       "       [0.86684073, 0.13315927],\n",
       "       [0.96533333, 0.03466667],\n",
       "       [0.01861702, 0.98138298],\n",
       "       [0.09162304, 0.90837696],\n",
       "       [0.95052083, 0.04947917],\n",
       "       [0.15364583, 0.84635417],\n",
       "       [0.        , 1.        ],\n",
       "       [0.27247956, 0.72752044],\n",
       "       [0.97593583, 0.02406417],\n",
       "       [0.82188295, 0.17811705],\n",
       "       [0.12834225, 0.87165775],\n",
       "       [0.75443038, 0.24556962],\n",
       "       [0.93010753, 0.06989247],\n",
       "       [0.15567282, 0.84432718],\n",
       "       [0.1511335 , 0.8488665 ],\n",
       "       [0.9921671 , 0.0078329 ],\n",
       "       [0.        , 1.        ],\n",
       "       [0.01851852, 0.98148148],\n",
       "       [0.01842105, 0.98157895],\n",
       "       [0.34042553, 0.65957447],\n",
       "       [0.86125654, 0.13874346],\n",
       "       [0.06544503, 0.93455497],\n",
       "       [0.9893617 , 0.0106383 ],\n",
       "       [0.86772487, 0.13227513],\n",
       "       [0.        , 1.        ],\n",
       "       [0.75129534, 0.24870466],\n",
       "       [0.98982188, 0.01017812],\n",
       "       [0.01381215, 0.98618785],\n",
       "       [0.99224806, 0.00775194],\n",
       "       [0.06578947, 0.93421053],\n",
       "       [0.01020408, 0.98979592],\n",
       "       [0.12044818, 0.87955182],\n",
       "       [0.26098191, 0.73901809],\n",
       "       [0.88095238, 0.11904762],\n",
       "       [0.06718346, 0.93281654],\n",
       "       [0.99210526, 0.00789474],\n",
       "       [0.66843501, 0.33156499],\n",
       "       [0.1037234 , 0.8962766 ],\n",
       "       [0.72043011, 0.27956989],\n",
       "       [0.81585678, 0.18414322],\n",
       "       [0.00515464, 0.99484536],\n",
       "       [0.99477807, 0.00522193],\n",
       "       [0.02072539, 0.97927461],\n",
       "       [0.        , 1.        ],\n",
       "       [0.76203209, 0.23796791],\n",
       "       [0.        , 1.        ],\n",
       "       [0.99204244, 0.00795756],\n",
       "       [0.15776081, 0.84223919],\n",
       "       [0.76822917, 0.23177083],\n",
       "       [0.125     , 0.875     ],\n",
       "       [0.98652291, 0.01347709],\n",
       "       [0.87012987, 0.12987013],\n",
       "       [0.00268097, 0.99731903],\n",
       "       [0.09798995, 0.90201005],\n",
       "       [0.14583333, 0.85416667],\n",
       "       [0.09326425, 0.90673575],\n",
       "       [0.        , 1.        ],\n",
       "       [0.98123324, 0.01876676],\n",
       "       [0.83762887, 0.16237113],\n",
       "       [0.21782178, 0.78217822],\n",
       "       [0.9164557 , 0.0835443 ],\n",
       "       [0.06766917, 0.93233083],\n",
       "       [0.60204082, 0.39795918],\n",
       "       [0.12532637, 0.87467363],\n",
       "       [0.96587927, 0.03412073],\n",
       "       [0.8778626 , 0.1221374 ],\n",
       "       [0.00278552, 0.99721448],\n",
       "       [0.93229167, 0.06770833],\n",
       "       [0.9093199 , 0.0906801 ],\n",
       "       [0.        , 1.        ],\n",
       "       [0.06793478, 0.93206522],\n",
       "       [0.99484536, 0.00515464],\n",
       "       [0.02956989, 0.97043011],\n",
       "       [0.98421053, 0.01578947],\n",
       "       [0.09273183, 0.90726817],\n",
       "       [0.89583333, 0.10416667],\n",
       "       [1.        , 0.        ],\n",
       "       [0.01312336, 0.98687664],\n",
       "       [0.07894737, 0.92105263],\n",
       "       [0.70854271, 0.29145729],\n",
       "       [0.        , 1.        ],\n",
       "       [1.        , 0.        ],\n",
       "       [0.65322581, 0.34677419],\n",
       "       [0.84473684, 0.15526316],\n",
       "       [0.99212598, 0.00787402],\n",
       "       [0.70731707, 0.29268293],\n",
       "       [0.47435897, 0.52564103],\n",
       "       [0.03713528, 0.96286472],\n",
       "       [0.8372093 , 0.1627907 ],\n",
       "       [0.01827676, 0.98172324],\n",
       "       [0.99206349, 0.00793651],\n",
       "       [0.73195876, 0.26804124],\n",
       "       [0.99491094, 0.00508906],\n",
       "       [1.        , 0.        ],\n",
       "       [0.81132075, 0.18867925],\n",
       "       [0.27631579, 0.72368421],\n",
       "       [0.14545455, 0.85454545],\n",
       "       [0.24289406, 0.75710594],\n",
       "       [0.        , 1.        ],\n",
       "       [0.77749361, 0.22250639],\n",
       "       [0.85677749, 0.14322251],\n",
       "       [0.03674541, 0.96325459],\n",
       "       [1.        , 0.        ],\n",
       "       [0.96569921, 0.03430079],\n",
       "       [0.99197861, 0.00802139],\n",
       "       [0.        , 1.        ],\n",
       "       [0.07105263, 0.92894737],\n",
       "       [0.95135135, 0.04864865],\n",
       "       [0.89736842, 0.10263158],\n",
       "       [0.98947368, 0.01052632],\n",
       "       [0.24870466, 0.75129534],\n",
       "       [0.99009901, 0.00990099],\n",
       "       [0.13020833, 0.86979167],\n",
       "       [0.9721519 , 0.0278481 ],\n",
       "       [0.04675325, 0.95324675],\n",
       "       [0.98637602, 0.01362398],\n",
       "       [1.        , 0.        ],\n",
       "       [0.98950131, 0.01049869],\n",
       "       [0.00265957, 0.99734043],\n",
       "       [0.95854922, 0.04145078],\n",
       "       [0.01282051, 0.98717949],\n",
       "       [0.07967033, 0.92032967],\n",
       "       [0.06613757, 0.93386243],\n",
       "       [0.        , 1.        ],\n",
       "       [1.        , 0.        ],\n",
       "       [0.995     , 0.005     ],\n",
       "       [0.        , 1.        ],\n",
       "       [0.94647887, 0.05352113],\n",
       "       [0.08510638, 0.91489362],\n",
       "       [0.98938992, 0.01061008],\n",
       "       [0.21518987, 0.78481013],\n",
       "       [0.0178117 , 0.9821883 ],\n",
       "       [0.06068602, 0.93931398],\n",
       "       [0.        , 1.        ],\n",
       "       [0.78553616, 0.21446384],\n",
       "       [0.07579462, 0.92420538],\n",
       "       [0.11202186, 0.88797814],\n",
       "       [0.99745547, 0.00254453],\n",
       "       [0.95685279, 0.04314721],\n",
       "       [0.23664122, 0.76335878],\n",
       "       [0.9213198 , 0.0786802 ],\n",
       "       [0.07179487, 0.92820513],\n",
       "       [0.12664908, 0.87335092],\n",
       "       [0.99240506, 0.00759494],\n",
       "       [0.94177215, 0.05822785],\n",
       "       [0.55989583, 0.44010417],\n",
       "       [0.86753247, 0.13246753],\n",
       "       [0.99737533, 0.00262467],\n",
       "       [0.04615385, 0.95384615],\n",
       "       [0.94722955, 0.05277045],\n",
       "       [0.04724409, 0.95275591],\n",
       "       [0.13368984, 0.86631016],\n",
       "       [0.92348285, 0.07651715],\n",
       "       [1.        , 0.        ],\n",
       "       [0.1025641 , 0.8974359 ],\n",
       "       [0.71164021, 0.28835979]])"
      ]
     },
     "execution_count": 8,
     "metadata": {},
     "output_type": "execute_result"
    }
   ],
   "source": [
    "bag_clf.oob_decision_function_"
   ]
  },
  {
   "cell_type": "code",
   "execution_count": 9,
   "metadata": {},
   "outputs": [
    {
     "name": "stdout",
     "output_type": "stream",
     "text": [
      "0.92\n"
     ]
    }
   ],
   "source": [
    "from sklearn.metrics import accuracy_score\n",
    "print(accuracy_score(y_test, y_pred))"
   ]
  },
  {
   "cell_type": "code",
   "execution_count": 10,
   "metadata": {},
   "outputs": [
    {
     "name": "stdout",
     "output_type": "stream",
     "text": [
      "0.856\n"
     ]
    }
   ],
   "source": [
    "tree_clf = DecisionTreeClassifier(random_state=42)\n",
    "tree_clf.fit(X_train, y_train)\n",
    "y_pred_tree = tree_clf.predict(X_test)\n",
    "print(accuracy_score(y_test, y_pred_tree))"
   ]
  },
  {
   "cell_type": "code",
   "execution_count": 11,
   "metadata": {},
   "outputs": [],
   "source": [
    "from matplotlib.colors import ListedColormap\n",
    "\n",
    "def plot_decision_boundary(clf, X, y, axes=[-1.5, 2.45, -1, 1.5], alpha=0.5, contour=True):\n",
    "    x1s = np.linspace(axes[0], axes[1], 100)\n",
    "    x2s = np.linspace(axes[2], axes[3], 100)\n",
    "    x1, x2 = np.meshgrid(x1s, x2s)\n",
    "    X_new = np.c_[x1.ravel(), x2.ravel()]\n",
    "    y_pred = clf.predict(X_new).reshape(x1.shape)\n",
    "    custom_cmap = ListedColormap(['#fafab0','#9898ff','#a0faa0'])\n",
    "    plt.contourf(x1, x2, y_pred, alpha=0.3, cmap=custom_cmap)\n",
    "    if contour:\n",
    "        custom_cmap2 = ListedColormap(['#7d7d58','#4c4c7f','#507d50'])\n",
    "        plt.contour(x1, x2, y_pred, cmap=custom_cmap2, alpha=0.8)\n",
    "    plt.plot(X[:, 0][y==0], X[:, 1][y==0], \"yo\", alpha=alpha)\n",
    "    plt.plot(X[:, 0][y==1], X[:, 1][y==1], \"bs\", alpha=alpha)\n",
    "    plt.axis(axes)\n",
    "    plt.xlabel(r\"$x_1$\", fontsize=18)\n",
    "    plt.ylabel(r\"$x_2$\", fontsize=18, rotation=0)"
   ]
  },
  {
   "cell_type": "code",
   "execution_count": 12,
   "metadata": {},
   "outputs": [
    {
     "data": {
      "image/png": "[encoded data removed]",
      "text/plain": [
       "<Figure size 720x288 with 2 Axes>"
      ]
     },
     "metadata": {
      "needs_background": "light"
     },
     "output_type": "display_data"
    }
   ],
   "source": [
    "# To plot pretty figures\n",
    "import numpy as np\n",
    "%matplotlib inline\n",
    "import matplotlib as mpl\n",
    "import matplotlib.pyplot as plt\n",
    "mpl.rc('axes', labelsize=14)\n",
    "mpl.rc('xtick', labelsize=12)\n",
    "mpl.rc('ytick', labelsize=12)\n",
    "\n",
    "fix, axes = plt.subplots(ncols=2, figsize=(10,4), sharey=True)\n",
    "plt.sca(axes[0])\n",
    "plot_decision_boundary(tree_clf, X, y)\n",
    "plt.title(\"Decision Tree\", fontsize=14)\n",
    "plt.sca(axes[1])\n",
    "plot_decision_boundary(bag_clf, X, y)\n",
    "plt.title(\"Decision Trees with Bagging\", fontsize=14)\n",
    "plt.ylabel(\"\")\n",
    "# save_fig(\"decision_tree_without_and_with_bagging_plot\")\n",
    "plt.show()"
   ]
  },
  {
   "cell_type": "markdown",
   "metadata": {},
   "source": [
    "## Random Forests"
   ]
  },
  {
   "cell_type": "code",
   "execution_count": 13,
   "metadata": {},
   "outputs": [],
   "source": [
    "from sklearn.ensemble import RandomForestClassifier\n",
    "rnd_clf = RandomForestClassifier(n_estimators=500, max_leaf_nodes=16, n_jobs=-1)\n",
    "rnd_clf.fit(X_train, y_train)\n",
    "y_pred_rf = rnd_clf.predict(X_test)"
   ]
  },
  {
   "cell_type": "code",
   "execution_count": 14,
   "metadata": {},
   "outputs": [],
   "source": [
    "bag_clf = BaggingClassifier(\n",
    " DecisionTreeClassifier(splitter=\"random\", max_leaf_nodes=16),\n",
    " n_estimators=500, max_samples=1.0, bootstrap=True, n_jobs=-1)"
   ]
  },
  {
   "cell_type": "markdown",
   "metadata": {},
   "source": [
    "## Extra-Trees\n",
    "\n",
    "Extra-Trees makes trees even more random by also using random thresholds for each feature rather than searching for the best possible thresholds (like regular Decision Trees do)."
   ]
  },
  {
   "cell_type": "markdown",
   "metadata": {},
   "source": [
    "## Feature Importance\n",
    "\n",
    "Feature Importance calculates how much the tree nodes that use that feature reduce impurity on average (across all trees in the forest)."
   ]
  },
  {
   "cell_type": "code",
   "execution_count": 15,
   "metadata": {},
   "outputs": [
    {
     "name": "stdout",
     "output_type": "stream",
     "text": [
      "sepal length (cm) 0.10325283428665369\n",
      "sepal width (cm) 0.026866014375605315\n",
      "petal length (cm) 0.43216437750034764\n",
      "petal width (cm) 0.43771677383739344\n"
     ]
    }
   ],
   "source": [
    "from sklearn.datasets import load_iris\n",
    "iris = load_iris()\n",
    "rnd_clf = RandomForestClassifier(n_estimators=500, n_jobs=-1)\n",
    "rnd_clf.fit(iris[\"data\"], iris[\"target\"])\n",
    "for name, score in zip(iris[\"feature_names\"], rnd_clf.feature_importances_):\n",
    "    print(name, score)"
   ]
  },
  {
   "cell_type": "markdown",
   "metadata": {},
   "source": [
    "## Boosting"
   ]
  },
  {
   "cell_type": "code",
   "execution_count": 16,
   "metadata": {},
   "outputs": [],
   "source": [
    "np.random.seed(42)\n",
    "X = np.random.rand(100, 1) - 0.5\n",
    "y = 3*X[:, 0]**2 + 0.05 * np.random.randn(100)"
   ]
  },
  {
   "cell_type": "code",
   "execution_count": 17,
   "metadata": {},
   "outputs": [
    {
     "data": {
      "text/plain": [
       "AdaBoostClassifier(base_estimator=DecisionTreeClassifier(max_depth=1),\n",
       "                   learning_rate=0.5, n_estimators=200)"
      ]
     },
     "execution_count": 17,
     "metadata": {},
     "output_type": "execute_result"
    }
   ],
   "source": [
    "from sklearn.ensemble import AdaBoostClassifier\n",
    "ada_clf = AdaBoostClassifier(\n",
    " DecisionTreeClassifier(max_depth=1), n_estimators=200,\n",
    " algorithm=\"SAMME.R\", learning_rate=0.5)\n",
    "ada_clf.fit(X_train, y_train)"
   ]
  },
  {
   "cell_type": "code",
   "execution_count": 18,
   "metadata": {},
   "outputs": [
    {
     "data": {
      "text/plain": [
       "GradientBoostingRegressor(learning_rate=1.0, max_depth=2, n_estimators=3)"
      ]
     },
     "execution_count": 18,
     "metadata": {},
     "output_type": "execute_result"
    }
   ],
   "source": [
    "from sklearn.ensemble import GradientBoostingRegressor\n",
    "gbrt = GradientBoostingRegressor(max_depth=2, n_estimators=3, learning_rate=1.0)\n",
    "gbrt.fit(X, y)"
   ]
  },
  {
   "cell_type": "code",
   "execution_count": 19,
   "metadata": {},
   "outputs": [
    {
     "data": {
      "text/plain": [
       "GradientBoostingRegressor(max_depth=2, n_estimators=77)"
      ]
     },
     "execution_count": 19,
     "metadata": {},
     "output_type": "execute_result"
    }
   ],
   "source": [
    "import numpy as np\n",
    "from sklearn.model_selection import train_test_split\n",
    "from sklearn.metrics import mean_squared_error\n",
    "X_train, X_val, y_train, y_val = train_test_split(X, y)\n",
    "gbrt = GradientBoostingRegressor(max_depth=2, n_estimators=120)\n",
    "gbrt.fit(X_train, y_train)\n",
    "errors = [mean_squared_error(y_val, y_pred)\n",
    " for y_pred in gbrt.staged_predict(X_val)]\n",
    "bst_n_estimators = np.argmin(errors) + 1\n",
    "gbrt_best = GradientBoostingRegressor(max_depth=2,n_estimators=bst_n_estimators)\n",
    "gbrt_best.fit(X_train, y_train)"
   ]
  },
  {
   "cell_type": "code",
   "execution_count": 22,
   "metadata": {},
   "outputs": [],
   "source": [
    "def plot_predictions(regressors, X, y, axes, label=None, style=\"r-\", data_style=\"b.\", data_label=None):\n",
    "    x1 = np.linspace(axes[0], axes[1], 500)\n",
    "    y_pred = sum(regressor.predict(x1.reshape(-1, 1)) for regressor in regressors)\n",
    "    plt.plot(X[:, 0], y, data_style, label=data_label)\n",
    "    plt.plot(x1, y_pred, style, linewidth=2, label=label)\n",
    "    if label or data_label:\n",
    "        plt.legend(loc=\"upper center\", fontsize=16)\n",
    "    plt.axis(axes)"
   ]
  },
  {
   "cell_type": "code",
   "execution_count": 23,
   "metadata": {},
   "outputs": [
    {
     "data": {
      "image/png": "[encoded data removed]",
      "text/plain": [
       "<Figure size 720x288 with 2 Axes>"
      ]
     },
     "metadata": {
      "needs_background": "light"
     },
     "output_type": "display_data"
    }
   ],
   "source": [
    "min_error = np.min(errors)\n",
    "plt.figure(figsize=(10, 4))\n",
    "\n",
    "plt.subplot(121)\n",
    "plt.plot(errors, \"b.-\")\n",
    "plt.plot([bst_n_estimators, bst_n_estimators], [0, min_error], \"k--\")\n",
    "plt.plot([0, 120], [min_error, min_error], \"k--\")\n",
    "plt.plot(bst_n_estimators, min_error, \"ko\")\n",
    "plt.text(bst_n_estimators, min_error*1.2, \"Minimum\", ha=\"center\", fontsize=14)\n",
    "plt.axis([0, 120, 0, 0.01])\n",
    "plt.xlabel(\"Number of trees\")\n",
    "plt.ylabel(\"Error\", fontsize=16)\n",
    "plt.title(\"Validation error\", fontsize=14)\n",
    "\n",
    "plt.subplot(122)\n",
    "plot_predictions([gbrt_best], X, y, axes=[-0.5, 0.5, -0.1, 0.8])\n",
    "plt.title(\"Best model (%d trees)\" % bst_n_estimators, fontsize=14)\n",
    "plt.ylabel(\"$y$\", fontsize=16, rotation=0)\n",
    "plt.xlabel(\"$x_1$\", fontsize=16)\n",
    "\n",
    "#save_fig(\"early_stopping_gbrt_plot\")\n",
    "plt.show()"
   ]
  },
  {
   "cell_type": "code",
   "execution_count": 24,
   "metadata": {},
   "outputs": [
    {
     "name": "stdout",
     "output_type": "stream",
     "text": [
      "Minimum validation MSE: 0.00260824820898836\n"
     ]
    }
   ],
   "source": [
    "print(\"Minimum validation MSE:\", min_error)"
   ]
  },
  {
   "cell_type": "code",
   "execution_count": 25,
   "metadata": {},
   "outputs": [],
   "source": [
    "# The following code stops training when the validation error does not improve for five iterations in a row:"
   ]
  },
  {
   "cell_type": "code",
   "execution_count": 26,
   "metadata": {},
   "outputs": [],
   "source": [
    "gbrt = GradientBoostingRegressor(max_depth=2, warm_start=True)\n",
    "min_val_error = float(\"inf\")\n",
    "error_going_up = 0\n",
    "for n_estimators in range(1, 120):\n",
    "    gbrt.n_estimators = n_estimators\n",
    "    gbrt.fit(X_train, y_train)\n",
    "    y_pred = gbrt.predict(X_val)\n",
    "    val_error = mean_squared_error(y_val, y_pred)\n",
    "    if val_error < min_val_error:\n",
    "        min_val_error = val_error\n",
    "        error_going_up = 0\n",
    "    else:\n",
    "        error_going_up += 1\n",
    "        if error_going_up == 5:\n",
    "            break # early stopping"
   ]
  },
  {
   "cell_type": "code",
   "execution_count": 27,
   "metadata": {},
   "outputs": [
    {
     "name": "stdout",
     "output_type": "stream",
     "text": [
      "82\n"
     ]
    }
   ],
   "source": [
    "print(gbrt.n_estimators)"
   ]
  },
  {
   "cell_type": "code",
   "execution_count": 28,
   "metadata": {},
   "outputs": [
    {
     "name": "stdout",
     "output_type": "stream",
     "text": [
      "Minimum validation MSE: 0.00260824820898836\n"
     ]
    }
   ],
   "source": [
    "print(\"Minimum validation MSE:\", min_val_error)"
   ]
  },
  {
   "cell_type": "markdown",
   "metadata": {},
   "source": [
    "## XGBoost, a scalable tree boosting system."
   ]
  },
  {
   "cell_type": "code",
   "execution_count": 29,
   "metadata": {},
   "outputs": [
    {
     "name": "stdout",
     "output_type": "stream",
     "text": [
      "[10:30:40] WARNING: src/objective/regression_obj.cu:152: reg:linear is now deprecated in favor of reg:squarederror.\n",
      "[10:30:40] WARNING: src/objective/regression_obj.cu:152: reg:linear is now deprecated in favor of reg:squarederror.\n",
      "[0]\tvalidation_0-rmse:0.308708\n",
      "Will train until validation_0-rmse hasn't improved in 2 rounds.\n",
      "[1]\tvalidation_0-rmse:0.281121\n",
      "[2]\tvalidation_0-rmse:0.257673\n",
      "[3]\tvalidation_0-rmse:0.236202\n",
      "[4]\tvalidation_0-rmse:0.217312\n",
      "[5]\tvalidation_0-rmse:0.200767\n",
      "[6]\tvalidation_0-rmse:0.185665\n",
      "[7]\tvalidation_0-rmse:0.170346\n",
      "[8]\tvalidation_0-rmse:0.15671\n",
      "[9]\tvalidation_0-rmse:0.144458\n",
      "[10]\tvalidation_0-rmse:0.133809\n",
      "[11]\tvalidation_0-rmse:0.124847\n",
      "[12]\tvalidation_0-rmse:0.115937\n",
      "[13]\tvalidation_0-rmse:0.108132\n",
      "[14]\tvalidation_0-rmse:0.101635\n",
      "[15]\tvalidation_0-rmse:0.095985\n",
      "[16]\tvalidation_0-rmse:0.091284\n",
      "[17]\tvalidation_0-rmse:0.086876\n",
      "[18]\tvalidation_0-rmse:0.082703\n",
      "[19]\tvalidation_0-rmse:0.079054\n",
      "[20]\tvalidation_0-rmse:0.075524\n",
      "[21]\tvalidation_0-rmse:0.072371\n",
      "[22]\tvalidation_0-rmse:0.069617\n",
      "[23]\tvalidation_0-rmse:0.06804\n",
      "[24]\tvalidation_0-rmse:0.065532\n",
      "[25]\tvalidation_0-rmse:0.063352\n",
      "[26]\tvalidation_0-rmse:0.062044\n",
      "[27]\tvalidation_0-rmse:0.061306\n",
      "[28]\tvalidation_0-rmse:0.059619\n",
      "[29]\tvalidation_0-rmse:0.058728\n",
      "[30]\tvalidation_0-rmse:0.057873\n",
      "[31]\tvalidation_0-rmse:0.057144\n",
      "[32]\tvalidation_0-rmse:0.056249\n",
      "[33]\tvalidation_0-rmse:0.055757\n",
      "[34]\tvalidation_0-rmse:0.055097\n",
      "[35]\tvalidation_0-rmse:0.054929\n",
      "[36]\tvalidation_0-rmse:0.05443\n",
      "[37]\tvalidation_0-rmse:0.05394\n",
      "[38]\tvalidation_0-rmse:0.053552\n",
      "[39]\tvalidation_0-rmse:0.05349\n",
      "[40]\tvalidation_0-rmse:0.053128\n",
      "[41]\tvalidation_0-rmse:0.052915\n",
      "[42]\tvalidation_0-rmse:0.052469\n",
      "[43]\tvalidation_0-rmse:0.052132\n",
      "[44]\tvalidation_0-rmse:0.052096\n",
      "[45]\tvalidation_0-rmse:0.051808\n",
      "[46]\tvalidation_0-rmse:0.051774\n",
      "[47]\tvalidation_0-rmse:0.051552\n",
      "[48]\tvalidation_0-rmse:0.051275\n",
      "[49]\tvalidation_0-rmse:0.051283\n",
      "[50]\tvalidation_0-rmse:0.05115\n",
      "[51]\tvalidation_0-rmse:0.051143\n",
      "[52]\tvalidation_0-rmse:0.051023\n",
      "[53]\tvalidation_0-rmse:0.051002\n",
      "[54]\tvalidation_0-rmse:0.05098\n",
      "[55]\tvalidation_0-rmse:0.051003\n",
      "[56]\tvalidation_0-rmse:0.051015\n",
      "Stopping. Best iteration:\n",
      "[54]\tvalidation_0-rmse:0.05098\n",
      "\n"
     ]
    }
   ],
   "source": [
    "import xgboost\n",
    "xgb_reg = xgboost.XGBRegressor()\n",
    "xgb_reg.fit(X_train, y_train)\n",
    "y_pred = xgb_reg.predict(X_val)\n",
    "\n",
    "xgb_reg.fit(X_train, y_train, \n",
    "            eval_set=[(X_val, y_val)], early_stopping_rounds=2)\n",
    "\n",
    "y_pred = xgb_reg.predict(X_val)"
   ]
  },
  {
   "cell_type": "code",
   "execution_count": null,
   "metadata": {},
   "outputs": [],
   "source": []
  }
 ],
 "metadata": {
  "kernelspec": {
   "display_name": "Python 3",
   "language": "python",
   "name": "python3"
  },
  "language_info": {
   "codemirror_mode": {
    "name": "ipython",
    "version": 3
   },
   "file_extension": ".py",
   "mimetype": "text/x-python",
   "name": "python",
   "nbconvert_exporter": "python",
   "pygments_lexer": "ipython3",
   "version": "3.7.6"
  }
 },
 "nbformat": 4,
 "nbformat_minor": 4
}
